{
 "cells": [
  {
   "cell_type": "markdown",
   "id": "72c5f9bc",
   "metadata": {},
   "source": [
    "<!-- # Write a program to calculate the Point Estimates and Interval Estimates \n",
    "# for a given problem.\n",
    "\n",
    "# df = read_csv('my_csv')\n",
    "\n",
    "# def estimate_calc (sample_mean=0, std_deviation=0, sample_size=0, flag_prop=0, flag, csv_file, csv_flag = 0):\n",
    "\t\n",
    "# \t-----------------------\n",
    "# \t-----------------------\n",
    "# \tPoint Estimate\n",
    "# \tInterval Estimate\n",
    "# \tAutomatically decide z or t\n",
    "# \tDecide Mean or Proportion\n",
    "# \talpha values via dictionary\n",
    "# \tz & t = {0.05,0.025}\n",
    "# \t------------------------\n",
    "# \t------------------------\n",
    "# \tCSV file based calculations\n",
    "# \t-----------------------\n",
    "\n",
    "# return value\n",
    "\n",
    "\n",
    "# Output :\n",
    "\n",
    "# 1. Ask user Point/Inerval or both\n",
    "# 2. Data follows the t-disribution with interval estimate is $80 to &120\n",
    "# 3. Calculations based on CSV file -->"
   ]
  },
  {
   "cell_type": "markdown",
   "id": "36b09eab",
   "metadata": {},
   "source": [
    "Write a program to calculate the Point Estimates and Interval Estimates \n",
    "for a given problem.\n",
    "\n",
    "df = read_csv('my_csv')\n",
    "\n",
    "def estimate_calc (sample_mean=0, std_deviation=0, sample_size=0, flag_prop=0, flag, csv_file, csv_flag = 0):\n",
    "\t\n",
    "\t-----------------------\n",
    "\t-----------------------\n",
    "\tPoint Estimate\n",
    "\tInterval Estimate\n",
    "\tAutomatically decide z or t\n",
    "\tDecide Mean or Proportion\n",
    "\talpha values via dictionary\n",
    "\tz & t = {0.05,0.025}\n",
    "\t------------------------\n",
    "\t------------------------\n",
    "\tCSV file based calculations\n",
    "\t-----------------------\n",
    "\n",
    "return value\n",
    "\n",
    "\n",
    "Output :\n",
    "\n",
    "1. Ask user Point/Inerval or both\n",
    "2. Data follows the t-disribution with interval estimate is $80 to &120\n",
    "3. Calculations based on CSV file"
   ]
  },
  {
   "cell_type": "code",
   "execution_count": null,
   "id": "ef614a71",
   "metadata": {},
   "outputs": [],
   "source": [
    "def estimate_calc(sample_mean=0, std_deviation=0, sample_size=0, flag_prop=0, flag, csv_file, csv_flag = 0):\n",
    "    "
   ]
  }
 ],
 "metadata": {
  "kernelspec": {
   "display_name": "Python 3",
   "language": "python",
   "name": "python3"
  },
  "language_info": {
   "codemirror_mode": {
    "name": "ipython",
    "version": 3
   },
   "file_extension": ".py",
   "mimetype": "text/x-python",
   "name": "python",
   "nbconvert_exporter": "python",
   "pygments_lexer": "ipython3",
   "version": "3.8.8"
  }
 },
 "nbformat": 4,
 "nbformat_minor": 5
}
